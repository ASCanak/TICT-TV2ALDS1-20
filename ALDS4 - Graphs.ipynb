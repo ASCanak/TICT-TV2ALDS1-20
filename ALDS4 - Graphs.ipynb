{
 "cells": [
  {
   "cell_type": "markdown",
   "metadata": {},
   "source": [
    "# Welkom bij Tutorial 4\n",
    "\n",
    "Dit is alweer de laatste tutorial van Algoritmiek en Datastructuren, waarin wij **grafen** gaan bestuderen. Een graaf is een datastructuur waarin nodes (die in de context van grafen ook wel **vertices** heten) aan elkaar verbonden zijn door middel van **edges**. \n",
    "\n",
    "De manier waarop er meestal over grafen geschreven wordt is al een tuple $G = (V, E)$ waarbij G de graaf is, V de *set* van nodes/vertices en E de *set* van edges. Ik schrijf hier *set* schuingedrukt, omdat dit een bekende datastructuur voor ons is: een container waarin geen dubbelen mogen zitten. \n",
    "\n",
    "Vertices zijn uiteraard een classes die data kunnen bevatten, maar ook de edges kunnen soms data bevatten. Bijvoorbeeld, in een shortest path problem (zie Reader) stellen de vertices/nodes locaties voor, en bevatten dus de naam van de locatie, en de edges verbindingen tussen deze locaties. De edges bevatten de *afstand* (bijvoorbeeld in kilometers) tussen deze locaties. \n",
    "\n",
    "Grafen zijn een zeer flexibele manier van data structuren: zolang er maar verbindingen tussen nodes en edges gelegd kunnen worden is het een valide implementatie van een graaf. Dit kan je natuurlijk op heel veel verschillende manieren doen. Laten we daar eens een paar van gaan bekijken. \n",
    "\n",
    "We gaan dit graafje maken: https://en.wikipedia.org/wiki/File:Dijkstra_Animation.gif "
   ]
  },
  {
   "cell_type": "code",
   "execution_count": 189,
   "metadata": {},
   "outputs": [],
   "source": [
    "from matplotlib import pyplot as plt\n",
    "import numpy as np\n",
    "import time\n",
    "import statistics as stats"
   ]
  },
  {
   "cell_type": "code",
   "execution_count": 190,
   "metadata": {},
   "outputs": [
    {
     "name": "stdout",
     "output_type": "stream",
     "text": [
      "V: {1:start, 2:, 3:, 4:, 5:goal, 6:}\n",
      "E: {(1,2):7, (1,6):14, (3,4):11, (3,6):2, (5,6):9, (4,5):6, (2,4):15, (1,3):9, (2,3):10}\n"
     ]
    }
   ],
   "source": [
    "# Een zeer generieke manier om een graaf te implementeren is er\n",
    "# daarwerkelijk twee sets van te maken op basis van twee classes:\n",
    "class Vertex:\n",
    "    def __init__(self, identifier, data_):\n",
    "        self.id = identifier\n",
    "        self.data = data_\n",
    "\n",
    "    def __eq__(self, other):  # nodig om aan een set toe te voegen\n",
    "        return self.id == other.id\n",
    "\n",
    "    def __hash__(self):  # nodig om aan een set toe te voegen\n",
    "        return hash(self.id)\n",
    "\n",
    "    def __repr__(self):\n",
    "        return str(self.id) + \":\" + str(self.data)\n",
    "\n",
    "\n",
    "class Edge:\n",
    "    def __init__(self, vertex1, vertex2, data_):\n",
    "        if vertex1.id < vertex2.id:\n",
    "            self.v1 = vertex1\n",
    "            self.v2 = vertex2\n",
    "        else:\n",
    "            self.v1 = vertex2\n",
    "            self.v2 = vertex1\n",
    "        self.data = data_\n",
    "\n",
    "    def __eq__(self, other):  # nodig om aan een set toe te voegen\n",
    "        return self.v1.id == other.v1.id and self.v2.id == self.v2.id\n",
    "\n",
    "    def __hash__(self):  # nodig om aan een set toe te voegen\n",
    "        return hash(str(self.v1.id) + \",\" + str(self.v2.id))\n",
    "\n",
    "    def __repr__(self):\n",
    "        return \"(\" + str(self.v1.id) + \",\" + str(self.v2.id) + \"):\" + str(self.data)\n",
    "\n",
    "\n",
    "class CGraph:\n",
    "    def __init__(self):\n",
    "        self.V = set()\n",
    "        self.E = set()\n",
    "\n",
    "    def __str__(self):\n",
    "        return \"V: \" + str(self.V) + \"\\nE: \" + str(self.E)\n",
    "\n",
    "\n",
    "# So, for a simple shortest path problem:\n",
    "gr = CGraph()\n",
    "v1 = Vertex(1, \"start\")\n",
    "v2 = Vertex(2, \"\")\n",
    "v3 = Vertex(3, \"\")\n",
    "v4 = Vertex(4, \"\")\n",
    "v5 = Vertex(5, \"goal\")\n",
    "v6 = Vertex(6, \"\")\n",
    "gr.V.add(v1)\n",
    "gr.V.add(v2)\n",
    "gr.V.add(v3)\n",
    "gr.V.add(v4)\n",
    "gr.V.add(v5)\n",
    "gr.V.add(v6)\n",
    "e1 = Edge(v1, v2, 7)\n",
    "e2 = Edge(v1, v3, 9)\n",
    "e3 = Edge(v1, v6, 14)\n",
    "e4 = Edge(v2, v3, 10)\n",
    "e5 = Edge(v2, v4, 15)\n",
    "e6 = Edge(v3, v4, 11)\n",
    "e7 = Edge(v3, v6, 2)\n",
    "e8 = Edge(v6, v5, 9)\n",
    "e9 = Edge(v4, v5, 6)\n",
    "gr.E.add(e1)\n",
    "gr.E.add(e2)\n",
    "gr.E.add(e3)\n",
    "gr.E.add(e4)\n",
    "gr.E.add(e5)\n",
    "gr.E.add(e6)\n",
    "gr.E.add(e7)\n",
    "gr.E.add(e8)\n",
    "gr.E.add(e9)\n",
    "print(gr)\n",
    "\n",
    "# Dit is eigenlijk al best een langdradige manier van doen..."
   ]
  },
  {
   "cell_type": "code",
   "execution_count": 191,
   "metadata": {},
   "outputs": [
    {
     "name": "stdout",
     "output_type": "stream",
     "text": [
      "{1: ('start', {2: 7, 3: 9, 6: 14}), 2: ('', {1: 7, 3: 10, 4: 15}), 3: ('', {1: 9, 2: 10, 4: 11, 6: 2}), 4: ('', {2: 15, 3: 11, 5: 6}), 5: ('goal', {4: 6, 6: 9}), 6: ('', {1: 14, 3: 2, 5: 9})}\n"
     ]
    }
   ],
   "source": [
    "# Daarom kiezen mensen er vaak voor om een graaf makkelijker te respresenteren met standaard datatypes\n",
    "# bijvoorbeeld: als we een dictionary maken met node identifiers als keys, en een tuple van (data, edges) als values\n",
    "# met edges als een dictionary met vertex ids van de verbonden vertices als keys en de data van de edge als key\n",
    "# krijgen we zoiets voor dezelfde graaf\n",
    "DGraph = dict\n",
    "gr2 = {\n",
    "    1: (\"start\", {2: 7, 3: 9, 6: 14}),\n",
    "    2: (\"\", {1: 7, 3: 10, 4: 15}),\n",
    "    3: (\"\", {1: 9, 2: 10, 4: 11, 6: 2}),\n",
    "    4: (\"\", {2: 15, 3: 11, 5: 6}),\n",
    "    5: (\"goal\", {4: 6, 6: 9}),\n",
    "    6: (\"\", {1: 14, 3: 2, 5: 9}),\n",
    "}\n",
    "print(gr2)\n",
    "# Dat is makkelijker in te voeren... Maar je moet wel goed bijhouden wat ookalweer wat is.\n",
    "# Bovendien heb ik er nu wat redundantie ingezet (elke node bevat de edges waaraan het verbonden zit, dus elke\n",
    "# edge zit twee maal in deze datastructuur)"
   ]
  },
  {
   "cell_type": "markdown",
   "metadata": {},
   "source": [
    "## Opgave 1: Dijkstra\n",
    "\n",
    "Laten we eens gaan kijken hoe goed de twee mogelijke implementaties van een graaf hierboven zijn (dus die met de expliciete klasses voor Vertices en Edges, en die die de hele graaf in één dictionary gooit. \n",
    "\n",
    "Schrijf implementaties van Dijkstra's algoritme voor de beide implementaties van grafen (CGraph en DGraph). Vergelijk de snelheid van beide versies van Dijkstra's algoritme door beiden meerdere keren te runnen. Vergeet niet de standaardafwijkingen te berekenen. Is één implementatie beter dan de andere? "
   ]
  },
  {
   "cell_type": "code",
   "execution_count": 192,
   "metadata": {},
   "outputs": [
    {
     "name": "stdout",
     "output_type": "stream",
     "text": [
      "(20, [1, 3, 6, 5])\n"
     ]
    }
   ],
   "source": [
    "# Schrijf hier de code voor opgave 1\n",
    "def shortestPath_CGraph(graph, start, finish):\n",
    "    for n in graph.V:\n",
    "        n.dist   = float('inf')\n",
    "        n.prev   = None \n",
    "    start.dist = 0\n",
    "    \n",
    "    N = {start}\n",
    "    S = set()\n",
    "    while len(N) != 0:\n",
    "        n = min(N, key=lambda x: x.dist)\n",
    "        N.remove(n)\n",
    "        S.add(n)\n",
    "        \n",
    "        if n == finish:\n",
    "            break\n",
    "        \n",
    "        for edge in graph.E:\n",
    "            if n == edge.v1:\n",
    "                m = edge.v2\n",
    "            elif n == edge.v2:\n",
    "                m = edge.v1\n",
    "            else:\n",
    "                continue\n",
    "\n",
    "            if m not in S:\n",
    "                if m not in N:\n",
    "                    N.add(m)\n",
    "                \n",
    "                altDistance = n.dist + edge.data\n",
    "                if m.dist > altDistance:\n",
    "                    m.dist = altDistance\n",
    "                    m.prev = n\n",
    "                    \n",
    "    path = []\n",
    "    current_node = finish\n",
    "    while current_node:\n",
    "        path.append(current_node.id)\n",
    "        current_node = current_node.prev\n",
    "    path.reverse()\n",
    "\n",
    "    return finish.dist, path\n",
    "\n",
    "print(shortestPath_CGraph(gr, v1, v5))"
   ]
  },
  {
   "cell_type": "code",
   "execution_count": 193,
   "metadata": {},
   "outputs": [
    {
     "name": "stdout",
     "output_type": "stream",
     "text": [
      "(20, [1, 3, 6, 5])\n"
     ]
    }
   ],
   "source": [
    "def shortestPath_DGraph(graph, start, finish):\n",
    "    dist = {}\n",
    "    prev  = {}\n",
    "    \n",
    "    for n in graph.keys():\n",
    "        dist[n] = float('inf')\n",
    "        prev[n]    = None\n",
    "    dist[start] = 0\n",
    "  \n",
    "    N = {start}\n",
    "    S = set()\n",
    "    while len(N) != 0:\n",
    "        n = min(N, key=lambda x: dist[x])\n",
    "        N.remove(n)\n",
    "        S.add(n)\n",
    "        \n",
    "        if n == finish:\n",
    "            break\n",
    "        \n",
    "        for m, data in graph[n][1].items():\n",
    "            if m not in S:\n",
    "                if m not in N:\n",
    "                    N.add(m)\n",
    "\n",
    "                altDistance = dist[n] + data\n",
    "                if dist[m] > altDistance:\n",
    "                    dist[m] = altDistance\n",
    "                    prev[m] = n\n",
    "                    \n",
    "    path = []\n",
    "    current_node = finish\n",
    "    while current_node:\n",
    "        path.append(current_node)\n",
    "        current_node = prev[current_node]\n",
    "    path.reverse()\n",
    "\n",
    "    return dist[finish], path\n",
    "\n",
    "print(shortestPath_DGraph(gr2, 1, 5))"
   ]
  },
  {
   "cell_type": "markdown",
   "metadata": {},
   "source": [
    "*Schrijf hier de tekst-antwoorden voor Opgave 1*"
   ]
  },
  {
   "cell_type": "markdown",
   "metadata": {},
   "source": [
    "## Opgave 2: Een andere implentatie?\n",
    "\n",
    "Verzin (evt. samen met je teamleden) nog een andere manier om grafen te implementeren, en schrijf vervolgens weer een bijbehorende implementatie van Dijkstra's algoritme. Is deze beter dan de vorige twee manieren? Toon dit wederom aan door metingen te doen. \n",
    "\n",
    "Ter inspiratie: kijk eens naar **adjacency lists** https://en.wikipedia.org/wiki/Adjacency_list en **adjacency matrices** https://en.wikipedia.org/wiki/Adjacency_matrix . Zou je de edges misschien (evt. per vertex) kunnen sorteren op een manier dat Dijkstra's algoritme makkelijker maakt, en zo ja, is dat computationeel de moeite waard?"
   ]
  },
  {
   "cell_type": "code",
   "execution_count": 195,
   "metadata": {},
   "outputs": [
    {
     "ename": "AttributeError",
     "evalue": "'numpy.int32' object has no attribute 'items'",
     "output_type": "error",
     "traceback": [
      "\u001b[1;31m---------------------------------------------------------------------------\u001b[0m",
      "\u001b[1;31mAttributeError\u001b[0m                            Traceback (most recent call last)",
      "Cell \u001b[1;32mIn[195], line 49\u001b[0m\n\u001b[0;32m     45\u001b[0m     path\u001b[38;5;241m.\u001b[39mreverse()\n\u001b[0;32m     47\u001b[0m     \u001b[38;5;28;01mreturn\u001b[39;00m dist[finish], path\n\u001b[1;32m---> 49\u001b[0m \u001b[38;5;28mprint\u001b[39m(\u001b[43mshortestPath_AMGraph\u001b[49m\u001b[43m(\u001b[49m\u001b[43mAMGraph\u001b[49m\u001b[43m,\u001b[49m\u001b[43m \u001b[49m\u001b[38;5;241;43m0\u001b[39;49m\u001b[43m,\u001b[49m\u001b[43m \u001b[49m\u001b[38;5;241;43m4\u001b[39;49m\u001b[43m)\u001b[49m)\n",
      "Cell \u001b[1;32mIn[195], line 30\u001b[0m, in \u001b[0;36mshortestPath_AMGraph\u001b[1;34m(graph, start, finish)\u001b[0m\n\u001b[0;32m     27\u001b[0m \u001b[38;5;28;01mif\u001b[39;00m n \u001b[38;5;241m==\u001b[39m finish:\n\u001b[0;32m     28\u001b[0m     \u001b[38;5;28;01mbreak\u001b[39;00m\n\u001b[1;32m---> 30\u001b[0m \u001b[38;5;28;01mfor\u001b[39;00m m, data \u001b[38;5;129;01min\u001b[39;00m \u001b[43mgraph\u001b[49m\u001b[43m[\u001b[49m\u001b[43mn\u001b[49m\u001b[43m]\u001b[49m\u001b[43m[\u001b[49m\u001b[38;5;241;43m1\u001b[39;49m\u001b[43m]\u001b[49m\u001b[38;5;241;43m.\u001b[39;49m\u001b[43mitems\u001b[49m():\n\u001b[0;32m     31\u001b[0m     \u001b[38;5;28;01mif\u001b[39;00m m \u001b[38;5;129;01mnot\u001b[39;00m \u001b[38;5;129;01min\u001b[39;00m S:\n\u001b[0;32m     32\u001b[0m         \u001b[38;5;28;01mif\u001b[39;00m m \u001b[38;5;129;01mnot\u001b[39;00m \u001b[38;5;129;01min\u001b[39;00m N:\n",
      "\u001b[1;31mAttributeError\u001b[0m: 'numpy.int32' object has no attribute 'items'"
     ]
    }
   ],
   "source": [
    "# Schrijf hier de code voor opgave 2\n",
    "AMGraph = np.array([\n",
    "    [0 , 7 , 9 , 0 , 0 , 14],\n",
    "    [7 , 0 , 10, 15, 0 , 0 ],\n",
    "    [9 , 10, 0 , 11, 0 , 2 ],\n",
    "    [0 , 15, 11, 0 , 6 , 0 ],\n",
    "    [0 , 0 , 0 , 6 , 0 , 9 ],\n",
    "    [14, 0 , 2 , 0 , 9 , 0 ]\n",
    "])\n",
    "\n",
    "def shortestPath_AMGraph(graph, start, finish):\n",
    "    dist = {}\n",
    "    prev  = {}\n",
    "    \n",
    "    for n in range(len(graph)):\n",
    "        dist[n] = float('inf')\n",
    "        prev[n]    = None\n",
    "    dist[start] = 0\n",
    "  \n",
    "    N = {start}\n",
    "    S = set()\n",
    "    while len(N) != 0:\n",
    "        n = min(N, key=lambda x: dist[x])\n",
    "        N.remove(n)\n",
    "        S.add(n)\n",
    "        \n",
    "        if n == finish:\n",
    "            break\n",
    "        \n",
    "        for m, data in graph[n][1].items():\n",
    "            if m not in S:\n",
    "                if m not in N:\n",
    "                    N.add(m)\n",
    "\n",
    "                altDistance = dist[n] + data\n",
    "                if dist[m] > altDistance:\n",
    "                    dist[m] = altDistance\n",
    "                    prev[m] = n\n",
    "                    \n",
    "    path = []\n",
    "    current_node = finish\n",
    "    while current_node:\n",
    "        path.append(current_node)\n",
    "        current_node = prev[current_node]\n",
    "    path.reverse()\n",
    "\n",
    "    return dist[finish], path\n",
    "\n",
    "print(shortestPath_AMGraph(AMGraph, 0, 4))"
   ]
  },
  {
   "cell_type": "markdown",
   "metadata": {},
   "source": [
    "*Schrijf hier de tekst-antwoorden voor Opgave 2*"
   ]
  },
  {
   "cell_type": "code",
   "execution_count": null,
   "metadata": {},
   "outputs": [],
   "source": []
  }
 ],
 "metadata": {
  "kernelspec": {
   "display_name": "Python 3.10.8 64-bit",
   "language": "python",
   "name": "python3"
  },
  "language_info": {
   "codemirror_mode": {
    "name": "ipython",
    "version": 3
   },
   "file_extension": ".py",
   "mimetype": "text/x-python",
   "name": "python",
   "nbconvert_exporter": "python",
   "pygments_lexer": "ipython3",
   "version": "3.10.8"
  },
  "vscode": {
   "interpreter": {
    "hash": "767d51c1340bd893661ea55ea3124f6de3c7a262a8b4abca0554b478b1e2ff90"
   }
  }
 },
 "nbformat": 4,
 "nbformat_minor": 4
}
